{
 "cells": [
  {
   "cell_type": "code",
   "execution_count": 14,
   "metadata": {},
   "outputs": [],
   "source": [
    "# !pip install moviepy"
   ]
  },
  {
   "cell_type": "code",
   "execution_count": 15,
   "metadata": {},
   "outputs": [],
   "source": [
    "from pytube import YouTube\n",
    "from moviepy.video.io.ffmpeg_tools import ffmpeg_extract_subclip\n",
    "\n",
    "# Collin Morikawa's PURE Iron Swing | Taylormade Golf:\n",
    "# youtube_url = \"https://www.youtube.com/watch?v=02imCuJAZCw\"\n",
    "\n",
    "# Tiger Woods slo-mo iron swing 2018:\n",
    "youtube_url = \"https://www.youtube.com/watch?v=KJIcGvAhUV8\""
   ]
  },
  {
   "cell_type": "code",
   "execution_count": 16,
   "metadata": {},
   "outputs": [
    {
     "data": {
      "text/plain": [
       "'/Users/Henry/Desktop/personal_projects/cv_testing_space/Golf Shot Tracer/Videos/Tiger Woods slo-mo iron swing is analyzed at Farmers 2018 (Face on).mp4'"
      ]
     },
     "execution_count": 16,
     "metadata": {},
     "output_type": "execute_result"
    }
   ],
   "source": [
    "# Create a YouTube object\n",
    "yt = YouTube(youtube_url)\n",
    "\n",
    "# Select the highest resolution stream\n",
    "stream = yt.streams.get_highest_resolution()\n",
    "\n",
    "# Specify the output path and filename\n",
    "output_path = 'Videos'\n",
    "\n",
    "stream.download(output_path)"
   ]
  },
  {
   "cell_type": "code",
   "execution_count": 23,
   "metadata": {},
   "outputs": [
    {
     "name": "stdout",
     "output_type": "stream",
     "text": [
      "Moviepy - Running:\n",
      ">>> \"+ \" \".join(cmd)\n",
      "Moviepy - Command returned an error\n"
     ]
    },
    {
     "ename": "OSError",
     "evalue": "ffmpeg version 4.2.2 Copyright (c) 2000-2019 the FFmpeg developers\n  built with Apple clang version 11.0.0 (clang-1100.0.33.8)\n  configuration: --enable-gpl --enable-version3 --enable-sdl2 --enable-fontconfig --enable-gnutls --enable-iconv --enable-libass --enable-libdav1d --enable-libbluray --enable-libfreetype --enable-libmp3lame --enable-libopencore-amrnb --enable-libopencore-amrwb --enable-libopenjpeg --enable-libopus --enable-libshine --enable-libsnappy --enable-libsoxr --enable-libtheora --enable-libtwolame --enable-libvpx --enable-libwavpack --enable-libwebp --enable-libx264 --enable-libx265 --enable-libxml2 --enable-libzimg --enable-lzma --enable-zlib --enable-gmp --enable-libvidstab --enable-libvorbis --enable-libvo-amrwbenc --enable-libmysofa --enable-libspeex --enable-libxvid --enable-libaom --enable-appkit --enable-avfoundation --enable-coreimage --enable-audiotoolbox\n  libavutil      56. 31.100 / 56. 31.100\n  libavcodec     58. 54.100 / 58. 54.100\n  libavformat    58. 29.100 / 58. 29.100\n  libavdevice    58.  8.100 / 58.  8.100\n  libavfilter     7. 57.100 /  7. 57.100\n  libswscale      5.  5.100 /  5.  5.100\n  libswresample   3.  5.100 /  3.  5.100\n  libpostproc    55.  5.100 / 55.  5.100\nInput #0, mov,mp4,m4a,3gp,3g2,mj2, from 'Videos/Tiger Woods slo-mo iron swing is analyzed at Farmers 2018 (Face on).mp4':\n  Metadata:\n    major_brand     : mp42\n    minor_version   : 0\n    compatible_brands: isommp42\n    creation_time   : 2021-02-28T15:33:54.000000Z\n  Duration: 00:00:36.32, start: 0.000000, bitrate: 730 kb/s\n    Stream #0:0(und): Video: h264 (Main) (avc1 / 0x31637661), yuv420p(tv, bt709), 1280x720 [SAR 1:1 DAR 16:9], 599 kb/s, 29.97 fps, 29.97 tbr, 30k tbn, 59.94 tbc (default)\n    Metadata:\n      creation_time   : 2021-02-28T15:33:54.000000Z\n      handler_name    : ISO Media file produced by Google Inc. Created on: 02/28/2021.\n    Stream #0:1(und): Audio: aac (LC) (mp4a / 0x6134706D), 44100 Hz, stereo, fltp, 128 kb/s (default)\n    Metadata:\n      creation_time   : 2021-02-28T15:33:54.000000Z\n      handler_name    : ISO Media file produced by Google Inc. Created on: 02/28/2021.\n[NULL @ 0x7f94c6808c00] Unable to find a suitable output format for 'Videos'\nVideos: Invalid argument\n",
     "output_type": "error",
     "traceback": [
      "\u001b[0;31m---------------------------------------------------------------------------\u001b[0m",
      "\u001b[0;31mOSError\u001b[0m                                   Traceback (most recent call last)",
      "\u001b[1;32m/Users/Henry/Desktop/personal_projects/cv_testing_space/Golf Shot Tracer/get_youtube_videos.ipynb Cell 4\u001b[0m in \u001b[0;36m<cell line: 12>\u001b[0;34m()\u001b[0m\n\u001b[1;32m      <a href='vscode-notebook-cell:/Users/Henry/Desktop/personal_projects/cv_testing_space/Golf%20Shot%20Tracer/get_youtube_videos.ipynb#W4sZmlsZQ%3D%3D?line=8'>9</a>\u001b[0m cropped_output_path \u001b[39m=\u001b[39m \u001b[39m'\u001b[39m\u001b[39mVideos\u001b[39m\u001b[39m'\u001b[39m\n\u001b[1;32m     <a href='vscode-notebook-cell:/Users/Henry/Desktop/personal_projects/cv_testing_space/Golf%20Shot%20Tracer/get_youtube_videos.ipynb#W4sZmlsZQ%3D%3D?line=10'>11</a>\u001b[0m \u001b[39m# Crop the downloaded video using moviepy\u001b[39;00m\n\u001b[0;32m---> <a href='vscode-notebook-cell:/Users/Henry/Desktop/personal_projects/cv_testing_space/Golf%20Shot%20Tracer/get_youtube_videos.ipynb#W4sZmlsZQ%3D%3D?line=11'>12</a>\u001b[0m ffmpeg_extract_subclip(videopath, start_time, end_time, targetname\u001b[39m=\u001b[39;49mcropped_output_path)\n",
      "File \u001b[0;32m~/opt/anaconda3/lib/python3.9/site-packages/moviepy/video/io/ffmpeg_tools.py:41\u001b[0m, in \u001b[0;36mffmpeg_extract_subclip\u001b[0;34m(filename, t1, t2, targetname)\u001b[0m\n\u001b[1;32m     33\u001b[0m     targetname \u001b[39m=\u001b[39m \u001b[39m\"\u001b[39m\u001b[39m%s\u001b[39;00m\u001b[39mSUB\u001b[39m\u001b[39m%d\u001b[39;00m\u001b[39m_\u001b[39m\u001b[39m%d\u001b[39;00m\u001b[39m.\u001b[39m\u001b[39m%s\u001b[39;00m\u001b[39m\"\u001b[39m \u001b[39m%\u001b[39m (name, T1, T2, ext)\n\u001b[1;32m     35\u001b[0m cmd \u001b[39m=\u001b[39m [get_setting(\u001b[39m\"\u001b[39m\u001b[39mFFMPEG_BINARY\u001b[39m\u001b[39m\"\u001b[39m),\u001b[39m\"\u001b[39m\u001b[39m-y\u001b[39m\u001b[39m\"\u001b[39m,\n\u001b[1;32m     36\u001b[0m        \u001b[39m\"\u001b[39m\u001b[39m-ss\u001b[39m\u001b[39m\"\u001b[39m, \u001b[39m\"\u001b[39m\u001b[39m%0.2f\u001b[39;00m\u001b[39m\"\u001b[39m\u001b[39m%\u001b[39mt1,\n\u001b[1;32m     37\u001b[0m        \u001b[39m\"\u001b[39m\u001b[39m-i\u001b[39m\u001b[39m\"\u001b[39m, filename,\n\u001b[1;32m     38\u001b[0m        \u001b[39m\"\u001b[39m\u001b[39m-t\u001b[39m\u001b[39m\"\u001b[39m, \u001b[39m\"\u001b[39m\u001b[39m%0.2f\u001b[39;00m\u001b[39m\"\u001b[39m\u001b[39m%\u001b[39m(t2\u001b[39m-\u001b[39mt1),\n\u001b[1;32m     39\u001b[0m        \u001b[39m\"\u001b[39m\u001b[39m-map\u001b[39m\u001b[39m\"\u001b[39m, \u001b[39m\"\u001b[39m\u001b[39m0\u001b[39m\u001b[39m\"\u001b[39m, \u001b[39m\"\u001b[39m\u001b[39m-vcodec\u001b[39m\u001b[39m\"\u001b[39m, \u001b[39m\"\u001b[39m\u001b[39mcopy\u001b[39m\u001b[39m\"\u001b[39m, \u001b[39m\"\u001b[39m\u001b[39m-acodec\u001b[39m\u001b[39m\"\u001b[39m, \u001b[39m\"\u001b[39m\u001b[39mcopy\u001b[39m\u001b[39m\"\u001b[39m, targetname]\n\u001b[0;32m---> 41\u001b[0m subprocess_call(cmd)\n",
      "File \u001b[0;32m~/opt/anaconda3/lib/python3.9/site-packages/moviepy/tools.py:54\u001b[0m, in \u001b[0;36msubprocess_call\u001b[0;34m(cmd, logger, errorprint)\u001b[0m\n\u001b[1;32m     52\u001b[0m     \u001b[39mif\u001b[39;00m errorprint:\n\u001b[1;32m     53\u001b[0m         logger(message\u001b[39m=\u001b[39m\u001b[39m'\u001b[39m\u001b[39mMoviepy - Command returned an error\u001b[39m\u001b[39m'\u001b[39m)\n\u001b[0;32m---> 54\u001b[0m     \u001b[39mraise\u001b[39;00m \u001b[39mIOError\u001b[39;00m(err\u001b[39m.\u001b[39mdecode(\u001b[39m'\u001b[39m\u001b[39mutf8\u001b[39m\u001b[39m'\u001b[39m))\n\u001b[1;32m     55\u001b[0m \u001b[39melse\u001b[39;00m:\n\u001b[1;32m     56\u001b[0m     logger(message\u001b[39m=\u001b[39m\u001b[39m'\u001b[39m\u001b[39mMoviepy - Command successful\u001b[39m\u001b[39m'\u001b[39m)\n",
      "\u001b[0;31mOSError\u001b[0m: ffmpeg version 4.2.2 Copyright (c) 2000-2019 the FFmpeg developers\n  built with Apple clang version 11.0.0 (clang-1100.0.33.8)\n  configuration: --enable-gpl --enable-version3 --enable-sdl2 --enable-fontconfig --enable-gnutls --enable-iconv --enable-libass --enable-libdav1d --enable-libbluray --enable-libfreetype --enable-libmp3lame --enable-libopencore-amrnb --enable-libopencore-amrwb --enable-libopenjpeg --enable-libopus --enable-libshine --enable-libsnappy --enable-libsoxr --enable-libtheora --enable-libtwolame --enable-libvpx --enable-libwavpack --enable-libwebp --enable-libx264 --enable-libx265 --enable-libxml2 --enable-libzimg --enable-lzma --enable-zlib --enable-gmp --enable-libvidstab --enable-libvorbis --enable-libvo-amrwbenc --enable-libmysofa --enable-libspeex --enable-libxvid --enable-libaom --enable-appkit --enable-avfoundation --enable-coreimage --enable-audiotoolbox\n  libavutil      56. 31.100 / 56. 31.100\n  libavcodec     58. 54.100 / 58. 54.100\n  libavformat    58. 29.100 / 58. 29.100\n  libavdevice    58.  8.100 / 58.  8.100\n  libavfilter     7. 57.100 /  7. 57.100\n  libswscale      5.  5.100 /  5.  5.100\n  libswresample   3.  5.100 /  3.  5.100\n  libpostproc    55.  5.100 / 55.  5.100\nInput #0, mov,mp4,m4a,3gp,3g2,mj2, from 'Videos/Tiger Woods slo-mo iron swing is analyzed at Farmers 2018 (Face on).mp4':\n  Metadata:\n    major_brand     : mp42\n    minor_version   : 0\n    compatible_brands: isommp42\n    creation_time   : 2021-02-28T15:33:54.000000Z\n  Duration: 00:00:36.32, start: 0.000000, bitrate: 730 kb/s\n    Stream #0:0(und): Video: h264 (Main) (avc1 / 0x31637661), yuv420p(tv, bt709), 1280x720 [SAR 1:1 DAR 16:9], 599 kb/s, 29.97 fps, 29.97 tbr, 30k tbn, 59.94 tbc (default)\n    Metadata:\n      creation_time   : 2021-02-28T15:33:54.000000Z\n      handler_name    : ISO Media file produced by Google Inc. Created on: 02/28/2021.\n    Stream #0:1(und): Audio: aac (LC) (mp4a / 0x6134706D), 44100 Hz, stereo, fltp, 128 kb/s (default)\n    Metadata:\n      creation_time   : 2021-02-28T15:33:54.000000Z\n      handler_name    : ISO Media file produced by Google Inc. Created on: 02/28/2021.\n[NULL @ 0x7f94c6808c00] Unable to find a suitable output format for 'Videos'\nVideos: Invalid argument\n"
     ]
    }
   ],
   "source": [
    "\n",
    "# Set the start and end time for the desired duration\n",
    "start_time = 4\n",
    "end_time = 22\n",
    "\n",
    "# videopath = output_path + \"/Tiger Woods slo-mo iron swing is analyzed at Farmers 2018 (Face on).mp4\"\n",
    "videopath = \"Videos/Tiger Woods slo-mo iron swing is analyzed at Farmers 2018 (Face on).mp4\"\n",
    "\n",
    "# Define the path of the cropped video\n",
    "cropped_output_path = 'Videos'\n",
    "\n",
    "# Crop the downloaded video using moviepy\n",
    "ffmpeg_extract_subclip(videopath, start_time, end_time, targetname=cropped_output_path)"
   ]
  },
  {
   "cell_type": "code",
   "execution_count": null,
   "metadata": {},
   "outputs": [],
   "source": []
  }
 ],
 "metadata": {
  "kernelspec": {
   "display_name": "Python 3.9.12 ('base')",
   "language": "python",
   "name": "python3"
  },
  "language_info": {
   "codemirror_mode": {
    "name": "ipython",
    "version": 3
   },
   "file_extension": ".py",
   "mimetype": "text/x-python",
   "name": "python",
   "nbconvert_exporter": "python",
   "pygments_lexer": "ipython3",
   "version": "3.9.12"
  },
  "orig_nbformat": 4,
  "vscode": {
   "interpreter": {
    "hash": "8841f7bafa9d104dbee62c6cf5f62fae5061e5f4a5ff02b7a6a5ce4bc4f60264"
   }
  }
 },
 "nbformat": 4,
 "nbformat_minor": 2
}
