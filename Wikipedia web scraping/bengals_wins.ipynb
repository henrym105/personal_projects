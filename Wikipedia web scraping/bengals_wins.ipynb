{
 "cells": [
  {
   "cell_type": "code",
   "execution_count": null,
   "metadata": {},
   "outputs": [],
   "source": [
    "import pandas as pd\n",
    "import numpy  as np\n",
    "from matplotlib import pyplot as plt"
   ]
  },
  {
   "cell_type": "code",
   "execution_count": null,
   "metadata": {},
   "outputs": [],
   "source": [
    "# URL for Cincinnati Bengals win data on Wikipedia\n",
    "url = 'https://en.wikipedia.org/wiki/List_of_Cincinnati_Bengals_seasons'\n",
    "\n",
    "# Read data from table on website into pandas DataFrame\n",
    "dfs = pd.read_html(url)\n",
    "df = dfs[1]\n",
    "df.columns = ['Season', 'Team', 'League', 'Conference', 'Division', 'Finish', 'W', 'L', 'T', 'Postseason results', 'Awards', 'Head coaches']\n",
    "df = df[['Season', 'League', 'Conference', 'Division', 'Finish', 'W', 'L', 'T', 'Postseason results', 'Awards', 'Head coaches']]\n",
    "\n",
    "seasons = 2021 - 1968  + 1\n",
    "df = df.iloc[0:seasons]\n",
    "\n",
    "df.info()"
   ]
  },
  {
   "cell_type": "code",
   "execution_count": null,
   "metadata": {},
   "outputs": [],
   "source": [
    "df['Season'] = pd.to_numeric(df['Season'])\n",
    "df['W'] = pd.to_numeric(df['W'])\n",
    "df['L'] = pd.to_numeric(df['L'])\n",
    "df['T'] = pd.to_numeric(df['T'])\n",
    "\n",
    "df['Win%'] = (df['W'] / (df['W']+df['L']+df['T'])).round(3)\n",
    "\n",
    "df.info()"
   ]
  },
  {
   "cell_type": "code",
   "execution_count": null,
   "metadata": {},
   "outputs": [],
   "source": [
    "# Extract win/loss/tie data from DataFrame and print\n",
    "# wins = df[['Season','W', 'L', 'T']].set_index('Season')\n",
    "results = df[['Season', 'Head coaches', 'W', 'L', 'T']]\n",
    "\n",
    "results['Win%'] = (results['W'] / (results['W']+results['L']+results['T'])).round(3)\n",
    "\n",
    "print(results)"
   ]
  },
  {
   "cell_type": "code",
   "execution_count": null,
   "metadata": {},
   "outputs": [],
   "source": [
    "groups = results.groupby('Season')\n",
    "\n",
    "colors = ['red','greeen','blue','yellow','black','cyan']\n",
    "colors = ['r','g','b','y','b',]\n",
    "\n",
    "\n",
    "for name, group in groups:\n",
    "        plt.bar(results['Season'], results['Win%'], label = name, color = colors)\n",
    "\n"
   ]
  },
  {
   "cell_type": "code",
   "execution_count": null,
   "metadata": {},
   "outputs": [],
   "source": [
    "\n",
    "plt.bar(df['Season'], \n",
    "        df['Win%']*100,\n",
    "        # width = 0.7 , \n",
    "        # bottom = 1 ,\n",
    "        # align = 'edge'\n",
    "        # color = df['Head coaches']\n",
    "        label  =  df['Head coaches']\n",
    ")\n",
    "plt.legend()\n",
    "\n",
    "plt.show()"
   ]
  },
  {
   "cell_type": "code",
   "execution_count": 232,
   "metadata": {},
   "outputs": [
    {
     "data": {
      "text/html": [
       "<div>\n",
       "<style scoped>\n",
       "    .dataframe tbody tr th:only-of-type {\n",
       "        vertical-align: middle;\n",
       "    }\n",
       "\n",
       "    .dataframe tbody tr th {\n",
       "        vertical-align: top;\n",
       "    }\n",
       "\n",
       "    .dataframe thead th {\n",
       "        text-align: right;\n",
       "    }\n",
       "</style>\n",
       "<table border=\"1\" class=\"dataframe\">\n",
       "  <thead>\n",
       "    <tr style=\"text-align: right;\">\n",
       "      <th></th>\n",
       "      <th>Win%</th>\n",
       "    </tr>\n",
       "    <tr>\n",
       "      <th>Head coaches</th>\n",
       "      <th></th>\n",
       "    </tr>\n",
       "  </thead>\n",
       "  <tbody>\n",
       "    <tr>\n",
       "      <th>Bill Johnson</th>\n",
       "      <td>0.642500</td>\n",
       "    </tr>\n",
       "    <tr>\n",
       "      <th>Bill Johnson (0–5) Homer Rice (4–7)</th>\n",
       "      <td>0.250000</td>\n",
       "    </tr>\n",
       "    <tr>\n",
       "      <th>Bruce Coslet</th>\n",
       "      <td>0.292000</td>\n",
       "    </tr>\n",
       "    <tr>\n",
       "      <th>Bruce Coslet (0–3) Dick LeBeau (4–9)</th>\n",
       "      <td>0.250000</td>\n",
       "    </tr>\n",
       "    <tr>\n",
       "      <th>Dave Shula</th>\n",
       "      <td>0.281500</td>\n",
       "    </tr>\n",
       "    <tr>\n",
       "      <th>Dave Shula (1–6) Bruce Coslet (7–2)</th>\n",
       "      <td>0.500000</td>\n",
       "    </tr>\n",
       "    <tr>\n",
       "      <th>Dick LeBeau</th>\n",
       "      <td>0.250000</td>\n",
       "    </tr>\n",
       "    <tr>\n",
       "      <th>Forrest Gregg</th>\n",
       "      <td>0.585250</td>\n",
       "    </tr>\n",
       "    <tr>\n",
       "      <th>Homer Rice</th>\n",
       "      <td>0.250000</td>\n",
       "    </tr>\n",
       "    <tr>\n",
       "      <th>Marvin Lewis</th>\n",
       "      <td>0.511813</td>\n",
       "    </tr>\n",
       "    <tr>\n",
       "      <th>Paul Brown</th>\n",
       "      <td>0.491000</td>\n",
       "    </tr>\n",
       "    <tr>\n",
       "      <th>Sam Wyche</th>\n",
       "      <td>0.478750</td>\n",
       "    </tr>\n",
       "    <tr>\n",
       "      <th>Zac Taylor</th>\n",
       "      <td>0.321000</td>\n",
       "    </tr>\n",
       "  </tbody>\n",
       "</table>\n",
       "</div>"
      ],
      "text/plain": [
       "                                          Win%\n",
       "Head coaches                                  \n",
       "Bill Johnson                          0.642500\n",
       "Bill Johnson (0–5) Homer Rice (4–7)   0.250000\n",
       "Bruce Coslet                          0.292000\n",
       "Bruce Coslet (0–3) Dick LeBeau (4–9)  0.250000\n",
       "Dave Shula                            0.281500\n",
       "Dave Shula (1–6) Bruce Coslet (7–2)   0.500000\n",
       "Dick LeBeau                           0.250000\n",
       "Forrest Gregg                         0.585250\n",
       "Homer Rice                            0.250000\n",
       "Marvin Lewis                          0.511813\n",
       "Paul Brown                            0.491000\n",
       "Sam Wyche                             0.478750\n",
       "Zac Taylor                            0.321000"
      ]
     },
     "execution_count": 232,
     "metadata": {},
     "output_type": "execute_result"
    }
   ],
   "source": [
    "coach_results = df[['Head coaches','Win%']].groupby('Head coaches').mean()\n",
    "coach_results\n",
    "\n",
    "# plt.bar(coach_results['Head coaches'], coach_results['Win%'])"
   ]
  },
  {
   "cell_type": "code",
   "execution_count": null,
   "metadata": {},
   "outputs": [],
   "source": []
  }
 ],
 "metadata": {
  "kernelspec": {
   "display_name": "Python 3.9.12 ('base')",
   "language": "python",
   "name": "python3"
  },
  "language_info": {
   "codemirror_mode": {
    "name": "ipython",
    "version": 3
   },
   "file_extension": ".py",
   "mimetype": "text/x-python",
   "name": "python",
   "nbconvert_exporter": "python",
   "pygments_lexer": "ipython3",
   "version": "3.9.12"
  },
  "orig_nbformat": 4,
  "vscode": {
   "interpreter": {
    "hash": "8841f7bafa9d104dbee62c6cf5f62fae5061e5f4a5ff02b7a6a5ce4bc4f60264"
   }
  }
 },
 "nbformat": 4,
 "nbformat_minor": 2
}
