{
 "cells": [
  {
   "cell_type": "markdown",
   "metadata": {},
   "source": [
    "rewriting my code with packages contained in the 'nfl_package' package"
   ]
  },
  {
   "cell_type": "code",
   "execution_count": 3,
   "metadata": {},
   "outputs": [],
   "source": [
    "import nfl_package "
   ]
  },
  {
   "cell_type": "code",
   "execution_count": 2,
   "metadata": {},
   "outputs": [
    {
     "ename": "AttributeError",
     "evalue": "module 'nfl_package' has no attribute 'objectz'",
     "output_type": "error",
     "traceback": [
      "\u001b[0;31m---------------------------------------------------------------------------\u001b[0m",
      "\u001b[0;31mAttributeError\u001b[0m                            Traceback (most recent call last)",
      "\u001b[1;32m/Users/Henry/Desktop/github/personal_projects/NFL schedule/scheduler_w_packages.ipynb Cell 3\u001b[0m line \u001b[0;36m1\n\u001b[0;32m----> <a href='vscode-notebook-cell:/Users/Henry/Desktop/github/personal_projects/NFL%20schedule/scheduler_w_packages.ipynb#W2sZmlsZQ%3D%3D?line=0'>1</a>\u001b[0m myteam \u001b[39m=\u001b[39m nfl_package\u001b[39m.\u001b[39mobjectz\u001b[39m.\u001b[39mNFLTeam()\n",
      "\u001b[0;31mAttributeError\u001b[0m: module 'nfl_package' has no attribute 'objectz'"
     ]
    }
   ],
   "source": [
    "myteam = nfl_package.objectz.NFLTeam()"
   ]
  },
  {
   "cell_type": "code",
   "execution_count": null,
   "metadata": {},
   "outputs": [],
   "source": []
  }
 ],
 "metadata": {
  "kernelspec": {
   "display_name": "nfl_schedule",
   "language": "python",
   "name": "python3"
  },
  "language_info": {
   "codemirror_mode": {
    "name": "ipython",
    "version": 3
   },
   "file_extension": ".py",
   "mimetype": "text/x-python",
   "name": "python",
   "nbconvert_exporter": "python",
   "pygments_lexer": "ipython3",
   "version": "3.11.5"
  },
  "orig_nbformat": 4
 },
 "nbformat": 4,
 "nbformat_minor": 2
}
