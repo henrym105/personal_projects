{
 "cells": [
  {
   "cell_type": "code",
   "execution_count": null,
   "metadata": {},
   "outputs": [],
   "source": [
    "teams_dict = {\n",
    "    \"Arizona Cardinals\": [\"NFC West\", \"NFC\"],\n",
    "    \"Atlanta Falcons\": [\"NFC South\", \"NFC\"],\n",
    "    \"Baltimore Ravens\": [\"AFC North\", \"AFC\"],\n",
    "    \"Buffalo Bills\": [\"AFC East\", \"AFC\"],\n",
    "    \"Carolina Panthers\": [\"NFC South\", \"NFC\"],\n",
    "    \"Chicago Bears\": [\"NFC North\", \"NFC\"],\n",
    "    \"Cincinnati Bengals\": [\"AFC North\", \"AFC\"],\n",
    "    \"Cleveland Browns\": [\"AFC North\", \"AFC\"],\n",
    "    \"Dallas Cowboys\": [\"NFC East\", \"NFC\"],\n",
    "    \"Denver Broncos\": [\"AFC West\", \"AFC\"],\n",
    "    \"Detroit Lions\": [\"NFC North\", \"NFC\"],\n",
    "    \"Green Bay Packers\": [\"NFC North\", \"NFC\"],\n",
    "    \"Houston Texans\": [\"AFC South\", \"AFC\"],\n",
    "    \"Indianapolis Colts\": [\"AFC South\", \"AFC\"],\n",
    "    \"Jacksonville Jaguars\": [\"AFC South\", \"AFC\"],\n",
    "    \"Kansas City Chiefs\": [\"AFC West\", \"AFC\"],\n",
    "    \"Las Vegas Raiders\": [\"AFC West\", \"AFC\"],\n",
    "    \"Los Angeles Chargers\": [\"AFC West\", \"AFC\"],\n",
    "    \"Los Angeles Rams\": [\"NFC West\", \"NFC\"],\n",
    "    \"Miami Dolphins\": [\"AFC East\", \"AFC\"],\n",
    "    \"Minnesota Vikings\": [\"NFC North\", \"NFC\"],\n",
    "    \"New England Patriots\": [\"AFC East\", \"AFC\"],\n",
    "    \"New Orleans Saints\": [\"NFC South\", \"NFC\"],\n",
    "    \"New York Giants\": [\"NFC East\", \"NFC\"],\n",
    "    \"New York Jets\": [\"AFC East\", \"AFC\"],\n",
    "    \"Philadelphia Eagles\": [\"NFC East\", \"NFC\"],\n",
    "    \"Pittsburgh Steelers\": [\"AFC North\", \"AFC\"],\n",
    "    \"San Francisco 49ers\": [\"NFC West\", \"NFC\"],\n",
    "    \"Seattle Seahawks\": [\"NFC West\", \"NFC\"],\n",
    "    \"Tampa Bay Buccaneers\": [\"NFC South\", \"NFC\"],\n",
    "    \"Tennessee Titans\": [\"AFC South\", \"AFC\"],\n",
    "    \"Washington Football Team\": [\"NFC East\", \"NFC\"]\n",
    "}"
   ]
  },
  {
   "cell_type": "code",
   "execution_count": null,
   "metadata": {},
   "outputs": [],
   "source": [
    "NFC = [team for team in teams_dict.keys() if \"NFC\" in teams_dict[team]]\n",
    "AFC = [team for team in teams_dict.keys() if \"AFC\" in teams_dict[team]]\n",
    "\n",
    "A_North = [team for team in teams_dict.keys() if \"AFC North\" in teams_dict[team]]\n",
    "A_South = [team for team in teams_dict.keys() if \"AFC South\" in teams_dict[team]]\n",
    "A_East = [team for team in teams_dict.keys() if \"AFC East\" in teams_dict[team]]\n",
    "A_West = [team for team in teams_dict.keys() if \"AFC West\" in teams_dict[team]]\n",
    "\n",
    "N_North = [team for team in teams_dict.keys() if \"NFC North\" in teams_dict[team]]\n",
    "N_South = [team for team in teams_dict.keys() if \"NFC South\" in teams_dict[team]]\n",
    "N_East = [team for team in teams_dict.keys() if \"NFC East\" in teams_dict[team]]\n",
    "N_West = [team for team in teams_dict.keys() if \"NFC West\" in teams_dict[team]]\n",
    "\n",
    "AFC_tiers = (A_North, A_South, A_East, A_West)\n",
    "NFC_tiers = (N_North, N_South, N_East, N_West)\n",
    "\n",
    "NFL_tiers = (AFC_tiers, NFC_tiers)"
   ]
  },
  {
   "cell_type": "code",
   "execution_count": null,
   "metadata": {},
   "outputs": [],
   "source": [
    "# first try at the round robin matching algo\n",
    "import random, copy, json\n",
    "\n",
    "full_schedule = {}\n",
    "\n",
    "# for week_num in range(16):\n",
    "for week_num in range(2):\n",
    "    afccopy = copy.copy(AFC)\n",
    "    nfccopy = copy.copy(NFC)\n",
    "    random.shuffle(afccopy)\n",
    "\n",
    "    weekly_matchups = [{\"home\": afc_team.name, \"away\": nfc_team.name} for afc_team, nfc_team in zip(afccopy, nfccopy)]\n",
    "\n",
    "\n",
    "    full_schedule[f\"week_{week_num+1}\"] = weekly_matchups\n",
    "\n",
    "full_schedule_json = json.dumps(full_schedule, indent=4)  # indent for pretty printing\n",
    "# print(full_schedule_json)\n"
   ]
  },
  {
   "cell_type": "code",
   "execution_count": null,
   "metadata": {},
   "outputs": [
    {
     "name": "stdout",
     "output_type": "stream",
     "text": [
      "['New England Patriots', 'Buffalo Bills', 'Miami Dolphins', 'New York Jets', 'Baltimore Ravens', 'Pittsburgh Steelers', 'Cleveland Browns', 'Cincinnati Bengals', 'Houston Texans', 'Indianapolis Colts', 'Tennessee Titans', 'Jacksonville Jaguars', 'Kansas City Chiefs', 'Denver Broncos', 'Las Vegas Raiders', 'Los Angeles Chargers', 'Dallas Cowboys', 'Washington Football Team', 'Philadelphia Eagles', 'New York Giants', 'Green Bay Packers', 'Chicago Bears', 'Minnesota Vikings', 'Detroit Lions', 'Tampa Bay Buccaneers', 'New Orleans Saints', 'Carolina Panthers', 'Atlanta Falcons', 'Seattle Seahawks', 'Los Angeles Rams', 'Arizona Cardinals', 'San Francisco 49ers']\n",
      "[]\n"
     ]
    }
   ],
   "source": [
    "# Generate a list of bye weeks, assign to teams\n",
    "# Byes can happen between week 4 and week 14\n",
    "import copy\n",
    "\n",
    "# refresh the team objects\n",
    "# create_new_league()\n",
    "\n",
    "# print a list of teams with no bye week yet for debugging\n",
    "no_bye_week = [team.name for team in nfl_teams if team.bye_week == None]\n",
    "print(no_bye_week)\n",
    "\n",
    "eligible_weeks = list(range(4, 15))\n",
    "\n",
    "for team in nfl_teams:\n",
    "    week_to_add = random.choice(eligible_weeks)\n",
    "    team.set_bye_week(week_to_add)\n",
    "    # print(team.bye_week, team.name)\n",
    "\n",
    "# print a list of teams with no bye week for debugging. this should now an empty blank now\n",
    "no_bye_week_after = [team.name for team in nfl_teams if team.bye_week == None]\n",
    "print(no_bye_week_after)\n"
   ]
  },
  {
   "cell_type": "code",
   "execution_count": null,
   "metadata": {},
   "outputs": [],
   "source": [
    "# def generate_bye_weeks(list_of_teams):    \n",
    "#     eligible_weeks = list(range(5, 15))\n",
    "# #     in the NFLTeam objects, set the bye week\n",
    "#     for team in list_of_teams:\n",
    "#         week_to_add = random.choice(eligible_weeks)\n",
    "#         team.set_bye_week(week_to_add)\n",
    "#     return {week: [team.name for team in nfl_teams if team.bye_week == week] for week in range(4, 15)}\n",
    "\n",
    "# def has_empty_bye_weeks(dictionary):\n",
    "#     \"\"\" checks if there are any weeks where no team has a bye\n",
    "#     Args:\n",
    "#         dictionary (dictionary): a dictionary with key = week_num and value = a list of teams with a bye in that week (created)\n",
    "#     Returns:\n",
    "#         bool: returns True if generate_bye_weeks() creates a bye week schedule where any week between 4 and 14 has no teams with a bye.\n",
    "#     \"\"\"\n",
    "#     for value in dictionary.values():\n",
    "#         if isinstance(value, list) and not value:\n",
    "#             return True\n",
    "#     return False\n"
   ]
  },
  {
   "cell_type": "code",
   "execution_count": null,
   "metadata": {},
   "outputs": [],
   "source": [
    "    def show_schedule(self):\n",
    "        for matchup in self.schedule:\n",
    "            if matchup[home_indicator] == True :\n",
    "                print(self.name, \"vs.\", matchup.opponent)\n",
    "            else:\n",
    "                print(self.name, \"@\", matchup.opponent)"
   ]
  }
 ],
 "metadata": {
  "language_info": {
   "name": "python"
  },
  "orig_nbformat": 4
 },
 "nbformat": 4,
 "nbformat_minor": 2
}
