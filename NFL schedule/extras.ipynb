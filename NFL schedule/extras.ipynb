{
 "cells": [
  {
   "cell_type": "code",
   "execution_count": null,
   "metadata": {},
   "outputs": [],
   "source": [
    "from collections import namedtuple\n",
    "\n",
    "from docplex.mp.model import Model\n",
    "from docplex.util.environment import get_environment\n",
    "\n",
    "\n",
    "# ----------------------------------------------------------------------------\n",
    "# Initialize the problem data\n",
    "# ----------------------------------------------------------------------------\n",
    "nbs = (8, 3, 2)\n",
    "\n",
    "team_div1 = {\"Baltimore Ravens\", \"Cincinnati Bengals\", \"Cleveland Browns\",\n",
    "             \"Pittsburgh Steelers\", \"Houston Texans\", \"Indianapolis Colts\",\n",
    "             \"Jacksonville Jaguars\", \"Tennessee Titans\", \"Buffalo Bills\",\n",
    "             \"Miami Dolphins\", \"New England Patriots\", \"New York Jets\",\n",
    "             \"Denver Broncos\", \"Kansas City Chiefs\", \"Oakland Raiders\",\n",
    "             \"San Diego Chargers\"}\n",
    "\n",
    "team_div2 = {\"Chicago Bears\", \"Detroit Lions\", \"Green Bay Packers\",\n",
    "             \"Minnesota Vikings\", \"Atlanta Falcons\", \"Carolina Panthers\",\n",
    "             \"New Orleans Saints\", \"Tampa Bay Buccaneers\", \"Dallas Cowboys\",\n",
    "             \"New York Giants\", \"Philadelphia Eagles\", \"Washington Redskins\",\n",
    "             \"Arizona Cardinals\", \"San Francisco 49ers\", \"Seattle Seahawks\",\n",
    "             \"St. Louis Rams\"}\n",
    "\n",
    "Match = namedtuple(\"Matches\", [\"team1\", \"team2\", \"is_divisional\"])\n",
    "\n",
    "\n",
    "# ----------------------------------------------------------------------------\n",
    "# Build the model\n",
    "# ----------------------------------------------------------------------------\n",
    "def build_sports(**kwargs):\n",
    "    print(\"* building sport scheduling model instance\")\n",
    "    mdl = Model('sportSchedCPLEX', **kwargs)\n",
    "\n",
    "    nb_teams_in_division, nb_intra_divisional, nb_inter_divisional = nbs\n",
    "    assert len(team_div1) == len(team_div2)\n",
    "    mdl.teams = list(team_div1 | team_div2)\n",
    "    # team index ranges from 1 to 2N\n",
    "    team_range = range(1, 2 * nb_teams_in_division + 1)\n",
    "\n",
    "    # Calculate the number of weeks necessary.\n",
    "    nb_weeks = (nb_teams_in_division - 1) * nb_intra_divisional + nb_teams_in_division * nb_inter_divisional\n",
    "    weeks = range(1, nb_weeks + 1)\n",
    "    mdl.weeks = weeks\n",
    "\n",
    "    print(\"{0} games, {1} intradivisional, {2} interdivisional\"\n",
    "          .format(nb_weeks, (nb_teams_in_division - 1) * nb_intra_divisional,\n",
    "                  nb_teams_in_division * nb_inter_divisional))\n",
    "\n",
    "    # Season is split into two halves.\n",
    "    first_half_weeks = range(1, nb_weeks // 2 + 1)\n",
    "    nb_first_half_games = nb_weeks // 3\n",
    "\n",
    "    # All possible matches (pairings) and whether of not each is intradivisional.\n",
    "    matches = [Match(t1, t2, 1 if (t2 <= nb_teams_in_division or t1 > nb_teams_in_division) else 0)\n",
    "               for t1 in team_range for t2 in team_range if t1 < t2]\n",
    "    mdl.matches = matches\n",
    "    # Number of games to play between pairs depends on\n",
    "    # whether the pairing is intradivisional or not.\n",
    "    nb_play = {m: nb_intra_divisional if m.is_divisional == 1 else nb_inter_divisional for m in matches}\n",
    "\n",
    "    plays = mdl.binary_var_matrix(keys1=matches, keys2=weeks,\n",
    "                                  name=lambda mw: \"play_%d_%d_w%d\" % (mw[0].team1, mw[0].team2, mw[1]))\n",
    "    mdl.plays = plays\n",
    "\n",
    "    for m in matches:\n",
    "        mdl.add_constraint(mdl.sum(plays[m, w] for w in weeks) == nb_play[m],\n",
    "                           \"correct_nb_games_%d_%d\" % (m.team1, m.team2))\n",
    "\n",
    "    for w in weeks:\n",
    "        # Each team must play exactly once in a week.\n",
    "        for t in team_range:\n",
    "            max_teams_in_division = (plays[m, w] for m in matches if m.team1 == t or m.team2 == t)\n",
    "            mdl.add_constraint(mdl.sum(max_teams_in_division) == 1,\n",
    "                               \"plays_exactly_once_%d_%s\" % (w, t))\n",
    "\n",
    "    # Games between the same teams cannot be on successive weeks.\n",
    "    mdl.add_constraints(plays[m, w] + plays[m, w + 1] <= 1\n",
    "                        for w in weeks for m in matches if w < nb_weeks)\n",
    "\n",
    "    # Some intradivisional games should be in the first half.\n",
    "    for t in team_range:\n",
    "        max_teams_in_division = [plays[m, w] for w in first_half_weeks for m in matches if\n",
    "                                 m.is_divisional == 1 and (m.team1 == t or m.team2 == t)]\n",
    "\n",
    "        mdl.add_constraint(mdl.sum(max_teams_in_division) >= nb_first_half_games,\n",
    "                           \"in_division_first_half_%s\" % t)\n",
    "\n",
    "    # postpone divisional matches as much as possible\n",
    "    # we weight each play variable with the square of w.\n",
    "    mdl.maximize(mdl.sum(plays[m, w] * w * w for w in weeks for m in matches if m.is_divisional))\n",
    "    return mdl\n",
    "\n",
    "# a named tuple to store solution\n",
    "TSolution = namedtuple(\"TSolution\", [\"week\", \"is_divisional\", \"team1\", \"team2\"])\n",
    "\n",
    "\n",
    "def print_sports_solution(mdl):\n",
    "    # iterate with weeks first\n",
    "    solution = [TSolution(w, m.is_divisional, mdl.teams[m.team1], mdl.teams[m.team2])\n",
    "                for w in mdl.weeks for m in mdl.matches\n",
    "                if mdl.plays[m, w].to_bool()]\n",
    "\n",
    "    currweek = 0\n",
    "    print(\"Intradivisional games are marked with a *\")\n",
    "    for s in solution:\n",
    "        # assume records are sorted by increasing week indices.\n",
    "        if s.week != currweek:\n",
    "            currweek = s.week\n",
    "            print(\" == == == == == == == == == == == == == == == == \")\n",
    "            print(\"On week %d\" % currweek)\n",
    "\n",
    "        print(\"    {0:s}{1} will meet the {2}\".format(\"*\" if s.is_divisional else \"\", s.team1, s.team2))\n",
    "\n",
    "\n",
    "# ----------------------------------------------------------------------------\n",
    "# Solve the model and display the result\n",
    "# ----------------------------------------------------------------------------\n",
    "if __name__ == '__main__':\n",
    "    # Build the model\n",
    "    model = build_sports()\n",
    "    model.print_information()\n",
    "    # Solve the model. If a key has been specified above, the solve\n",
    "    # will use IBM Decision Optimization on cloud.\n",
    "    if model.solve():\n",
    "        model.report()\n",
    "        print_sports_solution(model)\n",
    "        # Save the CPLEX solution as \"solution.json\" program output\n",
    "        with get_environment().get_output_stream(\"solution.json\") as fp:\n",
    "            model.solution.export(fp, \"json\")\n",
    "    else:\n",
    "        print(\"Problem could not be solved: \" + model.solve_details.get_status())\n",
    "    model.end()"
   ]
  },
  {
   "cell_type": "code",
   "execution_count": 6,
   "metadata": {},
   "outputs": [
    {
     "name": "stdout",
     "output_type": "stream",
     "text": [
      "Team1 vs Team2: Team1 vs Team2\n",
      "Team1 vs Team3: Team1 vs Team3\n",
      "Team1 vs Team4: Team1 vs Team4\n",
      "Team2 vs Team3: Team2 vs Team3\n",
      "Team2 vs Team1: Team2 vs Team1\n",
      "Team2 vs Team4: Team2 vs Team4\n",
      "Team3 vs Team2: Team3 vs Team2\n",
      "Team3 vs Team1: Team3 vs Team1\n",
      "Team3 vs Team4: Team3 vs Team4\n",
      "Team4 vs Team2: Team4 vs Team2\n",
      "Team4 vs Team1: Team4 vs Team1\n",
      "Team4 vs Team3: Team4 vs Team3\n"
     ]
    },
    {
     "data": {
      "text/plain": [
       "{'Team1 vs Team2': ('Team1', 'Team2'),\n",
       " 'Team1 vs Team3': ('Team1', 'Team3'),\n",
       " 'Team1 vs Team4': ('Team1', 'Team4'),\n",
       " 'Team2 vs Team3': ('Team2', 'Team3'),\n",
       " 'Team2 vs Team1': ('Team2', 'Team1'),\n",
       " 'Team2 vs Team4': ('Team2', 'Team4'),\n",
       " 'Team3 vs Team2': ('Team3', 'Team2'),\n",
       " 'Team3 vs Team1': ('Team3', 'Team1'),\n",
       " 'Team3 vs Team4': ('Team3', 'Team4'),\n",
       " 'Team4 vs Team2': ('Team4', 'Team2'),\n",
       " 'Team4 vs Team1': ('Team4', 'Team1'),\n",
       " 'Team4 vs Team3': ('Team4', 'Team3')}"
      ]
     },
     "execution_count": 6,
     "metadata": {},
     "output_type": "execute_result"
    }
   ],
   "source": [
    "import itertools\n",
    "\n",
    "teams = [\"Team1\", \"Team2\", \"Team3\", \"Team4\"]  # List of 4 NFL teams for illustration\n",
    "opponents = {\n",
    "    \"Team1\": [\"Team2\", \"Team3\", \"Team4\"],\n",
    "    \"Team2\": [\"Team1\", \"Team3\", \"Team4\"],\n",
    "    \"Team3\": [\"Team1\", \"Team2\", \"Team4\"],\n",
    "    \"Team4\": [\"Team1\", \"Team2\", \"Team3\"],\n",
    "}\n",
    "\n",
    "# Initialize an empty schedule\n",
    "schedule = {}\n",
    "\n",
    "# Generate the schedule\n",
    "for team in teams:\n",
    "    opponents_to_play = opponents[team].copy()\n",
    "    for i in range(len(opponents_to_play)):\n",
    "        # Choose an opponent for the current game\n",
    "        opponent = opponents_to_play.pop(0)\n",
    "\n",
    "        # Check if this matchup already exists in the schedule\n",
    "        if (team, opponent) in schedule.values():\n",
    "            continue\n",
    "        else:\n",
    "            schedule[team + \" vs \" + opponent] = (team, opponent)\n",
    "\n",
    "\n",
    "            \n",
    "        \n",
    "        if any(opponent in match for match in schedule.values()):\n",
    "            opponents_to_play.append(opponent)\n",
    "            opponent = opponents_to_play.pop(0)\n",
    "        # Assign the matchup to the schedule\n",
    "\n",
    "# Print the schedule\n",
    "for matchup, teams in schedule.items():\n",
    "    print(f\"{matchup}: {teams[0]} vs {teams[1]}\")\n",
    "\n",
    "schedule"
   ]
  },
  {
   "cell_type": "code",
   "execution_count": null,
   "metadata": {},
   "outputs": [],
   "source": [
    "teams_dict = {\n",
    "    \"Arizona Cardinals\": [\"NFC West\", \"NFC\"],\n",
    "    \"Atlanta Falcons\": [\"NFC South\", \"NFC\"],\n",
    "    \"Baltimore Ravens\": [\"AFC North\", \"AFC\"],\n",
    "    \"Buffalo Bills\": [\"AFC East\", \"AFC\"],\n",
    "    \"Carolina Panthers\": [\"NFC South\", \"NFC\"],\n",
    "    \"Chicago Bears\": [\"NFC North\", \"NFC\"],\n",
    "    \"Cincinnati Bengals\": [\"AFC North\", \"AFC\"],\n",
    "    \"Cleveland Browns\": [\"AFC North\", \"AFC\"],\n",
    "    \"Dallas Cowboys\": [\"NFC East\", \"NFC\"],\n",
    "    \"Denver Broncos\": [\"AFC West\", \"AFC\"],\n",
    "    \"Detroit Lions\": [\"NFC North\", \"NFC\"],\n",
    "    \"Green Bay Packers\": [\"NFC North\", \"NFC\"],\n",
    "    \"Houston Texans\": [\"AFC South\", \"AFC\"],\n",
    "    \"Indianapolis Colts\": [\"AFC South\", \"AFC\"],\n",
    "    \"Jacksonville Jaguars\": [\"AFC South\", \"AFC\"],\n",
    "    \"Kansas City Chiefs\": [\"AFC West\", \"AFC\"],\n",
    "    \"Las Vegas Raiders\": [\"AFC West\", \"AFC\"],\n",
    "    \"Los Angeles Chargers\": [\"AFC West\", \"AFC\"],\n",
    "    \"Los Angeles Rams\": [\"NFC West\", \"NFC\"],\n",
    "    \"Miami Dolphins\": [\"AFC East\", \"AFC\"],\n",
    "    \"Minnesota Vikings\": [\"NFC North\", \"NFC\"],\n",
    "    \"New England Patriots\": [\"AFC East\", \"AFC\"],\n",
    "    \"New Orleans Saints\": [\"NFC South\", \"NFC\"],\n",
    "    \"New York Giants\": [\"NFC East\", \"NFC\"],\n",
    "    \"New York Jets\": [\"AFC East\", \"AFC\"],\n",
    "    \"Philadelphia Eagles\": [\"NFC East\", \"NFC\"],\n",
    "    \"Pittsburgh Steelers\": [\"AFC North\", \"AFC\"],\n",
    "    \"San Francisco 49ers\": [\"NFC West\", \"NFC\"],\n",
    "    \"Seattle Seahawks\": [\"NFC West\", \"NFC\"],\n",
    "    \"Tampa Bay Buccaneers\": [\"NFC South\", \"NFC\"],\n",
    "    \"Tennessee Titans\": [\"AFC South\", \"AFC\"],\n",
    "    \"Washington Football Team\": [\"NFC East\", \"NFC\"]\n",
    "}"
   ]
  },
  {
   "cell_type": "code",
   "execution_count": null,
   "metadata": {},
   "outputs": [],
   "source": [
    "NFC = [team for team in teams_dict.keys() if \"NFC\" in teams_dict[team]]\n",
    "AFC = [team for team in teams_dict.keys() if \"AFC\" in teams_dict[team]]\n",
    "\n",
    "A_North = [team for team in teams_dict.keys() if \"AFC North\" in teams_dict[team]]\n",
    "A_South = [team for team in teams_dict.keys() if \"AFC South\" in teams_dict[team]]\n",
    "A_East = [team for team in teams_dict.keys() if \"AFC East\" in teams_dict[team]]\n",
    "A_West = [team for team in teams_dict.keys() if \"AFC West\" in teams_dict[team]]\n",
    "\n",
    "N_North = [team for team in teams_dict.keys() if \"NFC North\" in teams_dict[team]]\n",
    "N_South = [team for team in teams_dict.keys() if \"NFC South\" in teams_dict[team]]\n",
    "N_East = [team for team in teams_dict.keys() if \"NFC East\" in teams_dict[team]]\n",
    "N_West = [team for team in teams_dict.keys() if \"NFC West\" in teams_dict[team]]\n",
    "\n",
    "AFC_tiers = (A_North, A_South, A_East, A_West)\n",
    "NFC_tiers = (N_North, N_South, N_East, N_West)\n",
    "\n",
    "NFL_tiers = (AFC_tiers, NFC_tiers)"
   ]
  },
  {
   "cell_type": "code",
   "execution_count": null,
   "metadata": {},
   "outputs": [],
   "source": [
    "# first try at the round robin matching algo\n",
    "import random, copy, json\n",
    "\n",
    "full_schedule = {}\n",
    "\n",
    "# for week_num in range(16):\n",
    "for week_num in range(2):\n",
    "    afccopy = copy.copy(AFC)\n",
    "    nfccopy = copy.copy(NFC)\n",
    "    random.shuffle(afccopy)\n",
    "\n",
    "    weekly_matchups = [{\"home\": afc_team.name, \"away\": nfc_team.name} for afc_team, nfc_team in zip(afccopy, nfccopy)]\n",
    "\n",
    "\n",
    "    full_schedule[f\"week_{week_num+1}\"] = weekly_matchups\n",
    "\n",
    "full_schedule_json = json.dumps(full_schedule, indent=4)  # indent for pretty printing\n",
    "# print(full_schedule_json)\n"
   ]
  },
  {
   "cell_type": "code",
   "execution_count": null,
   "metadata": {},
   "outputs": [
    {
     "name": "stdout",
     "output_type": "stream",
     "text": [
      "['New England Patriots', 'Buffalo Bills', 'Miami Dolphins', 'New York Jets', 'Baltimore Ravens', 'Pittsburgh Steelers', 'Cleveland Browns', 'Cincinnati Bengals', 'Houston Texans', 'Indianapolis Colts', 'Tennessee Titans', 'Jacksonville Jaguars', 'Kansas City Chiefs', 'Denver Broncos', 'Las Vegas Raiders', 'Los Angeles Chargers', 'Dallas Cowboys', 'Washington Football Team', 'Philadelphia Eagles', 'New York Giants', 'Green Bay Packers', 'Chicago Bears', 'Minnesota Vikings', 'Detroit Lions', 'Tampa Bay Buccaneers', 'New Orleans Saints', 'Carolina Panthers', 'Atlanta Falcons', 'Seattle Seahawks', 'Los Angeles Rams', 'Arizona Cardinals', 'San Francisco 49ers']\n",
      "[]\n"
     ]
    }
   ],
   "source": [
    "# Generate a list of bye weeks, assign to teams\n",
    "# Byes can happen between week 4 and week 14\n",
    "import copy\n",
    "\n",
    "# refresh the team objects\n",
    "# create_new_league()\n",
    "\n",
    "# print a list of teams with no bye week yet for debugging\n",
    "no_bye_week = [team.name for team in nfl_teams if team.bye_week == None]\n",
    "print(no_bye_week)\n",
    "\n",
    "eligible_weeks = list(range(4, 15))\n",
    "\n",
    "for team in nfl_teams:\n",
    "    week_to_add = random.choice(eligible_weeks)\n",
    "    team.set_bye_week(week_to_add)\n",
    "    # print(team.bye_week, team.name)\n",
    "\n",
    "# print a list of teams with no bye week for debugging. this should now an empty blank now\n",
    "no_bye_week_after = [team.name for team in nfl_teams if team.bye_week == None]\n",
    "print(no_bye_week_after)\n"
   ]
  },
  {
   "cell_type": "code",
   "execution_count": null,
   "metadata": {},
   "outputs": [],
   "source": [
    "# def generate_bye_weeks(list_of_teams):    \n",
    "#     eligible_weeks = list(range(5, 15))\n",
    "# #     in the NFLTeam objects, set the bye week\n",
    "#     for team in list_of_teams:\n",
    "#         week_to_add = random.choice(eligible_weeks)\n",
    "#         team.set_bye_week(week_to_add)\n",
    "#     return {week: [team.name for team in nfl_teams if team.bye_week == week] for week in range(4, 15)}\n",
    "\n",
    "# def has_empty_bye_weeks(dictionary):\n",
    "#     \"\"\" checks if there are any weeks where no team has a bye\n",
    "#     Args:\n",
    "#         dictionary (dictionary): a dictionary with key = week_num and value = a list of teams with a bye in that week (created)\n",
    "#     Returns:\n",
    "#         bool: returns True if generate_bye_weeks() creates a bye week schedule where any week between 4 and 14 has no teams with a bye.\n",
    "#     \"\"\"\n",
    "#     for value in dictionary.values():\n",
    "#         if isinstance(value, list) and not value:\n",
    "#             return True\n",
    "#     return False\n"
   ]
  },
  {
   "cell_type": "code",
   "execution_count": null,
   "metadata": {},
   "outputs": [],
   "source": [
    "    def show_schedule(self):\n",
    "        for matchup in self.schedule:\n",
    "            if matchup[home_indicator] == True :\n",
    "                print(self.name, \"vs.\", matchup.opponent)\n",
    "            else:\n",
    "                print(self.name, \"@\", matchup.opponent)"
   ]
  },
  {
   "cell_type": "code",
   "execution_count": 14,
   "metadata": {},
   "outputs": [
    {
     "data": {
      "text/plain": [
       "[5, 10, 11, 13, 14, 17]"
      ]
     },
     "execution_count": 14,
     "metadata": {},
     "output_type": "execute_result"
    }
   ],
   "source": [
    "import random\n",
    "sorted(random.sample(range(18), k = 6))"
   ]
  },
  {
   "cell_type": "code",
   "execution_count": 18,
   "metadata": {},
   "outputs": [
    {
     "data": {
      "text/plain": [
       "True"
      ]
     },
     "execution_count": 18,
     "metadata": {},
     "output_type": "execute_result"
    }
   ],
   "source": [
    "None == None == None"
   ]
  },
  {
   "cell_type": "code",
   "execution_count": 5,
   "metadata": {},
   "outputs": [
    {
     "name": "stdout",
     "output_type": "stream",
     "text": [
      "{1: {'home': 'a', 'away': 'B'}}\n"
     ]
    },
    {
     "ename": "AttributeError",
     "evalue": "'dict' object has no attribute 'append'",
     "output_type": "error",
     "traceback": [
      "\u001b[0;31m---------------------------------------------------------------------------\u001b[0m",
      "\u001b[0;31mAttributeError\u001b[0m                            Traceback (most recent call last)",
      "\u001b[1;32m/Users/Henry/Desktop/github/personal_projects/NFL schedule/extras.ipynb Cell 9\u001b[0m line \u001b[0;36m1\n\u001b[1;32m     <a href='vscode-notebook-cell:/Users/Henry/Desktop/github/personal_projects/NFL%20schedule/extras.ipynb#X13sZmlsZQ%3D%3D?line=9'>10</a>\u001b[0m \u001b[39m# Step 3: Append a value to the list associated with the key\u001b[39;00m\n\u001b[1;32m     <a href='vscode-notebook-cell:/Users/Henry/Desktop/github/personal_projects/NFL%20schedule/extras.ipynb#X13sZmlsZQ%3D%3D?line=10'>11</a>\u001b[0m new_value \u001b[39m=\u001b[39m \u001b[39m'\u001b[39m\u001b[39mnew_item\u001b[39m\u001b[39m'\u001b[39m\n\u001b[0;32m---> <a href='vscode-notebook-cell:/Users/Henry/Desktop/github/personal_projects/NFL%20schedule/extras.ipynb#X13sZmlsZQ%3D%3D?line=11'>12</a>\u001b[0m my_dict[my_key]\u001b[39m.\u001b[39mappend(new_value)\n\u001b[1;32m     <a href='vscode-notebook-cell:/Users/Henry/Desktop/github/personal_projects/NFL%20schedule/extras.ipynb#X13sZmlsZQ%3D%3D?line=13'>14</a>\u001b[0m \u001b[39m# You can continue appending more values to the list\u001b[39;00m\n\u001b[1;32m     <a href='vscode-notebook-cell:/Users/Henry/Desktop/github/personal_projects/NFL%20schedule/extras.ipynb#X13sZmlsZQ%3D%3D?line=14'>15</a>\u001b[0m my_dict[my_key]\u001b[39m.\u001b[39mappend(\u001b[39m'\u001b[39m\u001b[39manother_item\u001b[39m\u001b[39m'\u001b[39m)\n",
      "\u001b[0;31mAttributeError\u001b[0m: 'dict' object has no attribute 'append'"
     ]
    }
   ],
   "source": [
    "# Step 1: Create an empty dictionary\n",
    "my_dict = {}\n",
    "\n",
    "# Step 2: Initialize the value associated with a key as an empty list\n",
    "my_key = 1\n",
    "my_dict[my_key] = {\"home\": \"a\", \"away\": \"B\"}\n",
    "\n",
    "print(my_dict)\n",
    "\n",
    "# Step 3: Append a value to the list associated with the key\n",
    "new_value = 'new_item'\n",
    "my_dict[my_key].append(new_value)\n",
    "\n",
    "# You can continue appending more values to the list\n",
    "my_dict[my_key].append('another_item')\n",
    "\n",
    "print(my_dict)  # Output: {'example_key': ['new_item', 'another_item']}\n"
   ]
  },
  {
   "cell_type": "code",
   "execution_count": 3,
   "metadata": {},
   "outputs": [
    {
     "name": "stdout",
     "output_type": "stream",
     "text": [
      "[4, 2, 2, 2, 2, 4, 2, 4, 2, 4, 4]\n",
      "[0, 0, 0, 4, 2, 2, 2, 2, 4, 2, 4, 2, 4, 4, 0, 0, 0, 0]\n",
      "[0, 0, 0, 2, 1, 1, 1, 1, 2, 1, 2, 1, 2, 2, 0, 0, 0, 0]\n"
     ]
    }
   ],
   "source": [
    "debug = True\n",
    "import random\n",
    "\n",
    "eligible_weeks = list(range(4, 15)) \n",
    "\n",
    "weekly_bye_count_list = [random.choice([2,4]) for week in eligible_weeks]\n",
    "while sum(weekly_bye_count_list) != 32:\n",
    "    weekly_bye_count_list =  [random.choice([2,4]) for week in eligible_weeks]\n",
    "\n",
    "if debug:\n",
    "    print(weekly_bye_count_list)\n",
    "\n",
    "# add the weeks at start and end of season to fill out the full schedule\n",
    "weekly_bye_count_list = [0,0,0] + weekly_bye_count_list + [0,0,0,0]\n",
    "\n",
    "if debug:\n",
    "    print(weekly_bye_count_list)\n",
    "\n",
    "# list of how many teams from each conference are on a bye for in each week (index)\n",
    "weekly_bye_slots_per_conference = [value//2 for value in weekly_bye_count_list]\n",
    "if debug:\n",
    "    print(weekly_bye_slots_per_conference)\n"
   ]
  },
  {
   "cell_type": "code",
   "execution_count": null,
   "metadata": {},
   "outputs": [],
   "source": [
    "game_type_outline = {\"in_conf\":}"
   ]
  }
 ],
 "metadata": {
  "kernelspec": {
   "display_name": "nfl_schedule",
   "language": "python",
   "name": "python3"
  },
  "language_info": {
   "codemirror_mode": {
    "name": "ipython",
    "version": 3
   },
   "file_extension": ".py",
   "mimetype": "text/x-python",
   "name": "python",
   "nbconvert_exporter": "python",
   "pygments_lexer": "ipython3",
   "version": "3.11.5"
  },
  "orig_nbformat": 4
 },
 "nbformat": 4,
 "nbformat_minor": 2
}
