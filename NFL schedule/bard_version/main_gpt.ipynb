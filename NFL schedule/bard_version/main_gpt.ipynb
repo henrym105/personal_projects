{
 "cells": [
  {
   "cell_type": "code",
   "execution_count": 4,
   "metadata": {},
   "outputs": [
    {
     "ename": "KeyError",
     "evalue": "('TeamB', 'TeamA')",
     "output_type": "error",
     "traceback": [
      "\u001b[0;31m---------------------------------------------------------------------------\u001b[0m",
      "\u001b[0;31mKeyError\u001b[0m                                  Traceback (most recent call last)",
      "\u001b[1;32m/Users/Henry/Desktop/github/personal_projects/NFL schedule/bard_version/main_gpt.ipynb Cell 1\u001b[0m line \u001b[0;36m2\n\u001b[1;32m     <a href='vscode-notebook-cell:/Users/Henry/Desktop/github/personal_projects/NFL%20schedule/bard_version/main_gpt.ipynb#W0sZmlsZQ%3D%3D?line=16'>17</a>\u001b[0m travel_distance \u001b[39m=\u001b[39m {\n\u001b[1;32m     <a href='vscode-notebook-cell:/Users/Henry/Desktop/github/personal_projects/NFL%20schedule/bard_version/main_gpt.ipynb#W0sZmlsZQ%3D%3D?line=17'>18</a>\u001b[0m     (\u001b[39m\"\u001b[39m\u001b[39mTeamA\u001b[39m\u001b[39m\"\u001b[39m, \u001b[39m\"\u001b[39m\u001b[39mTeamB\u001b[39m\u001b[39m\"\u001b[39m): \u001b[39m100\u001b[39m,\n\u001b[1;32m     <a href='vscode-notebook-cell:/Users/Henry/Desktop/github/personal_projects/NFL%20schedule/bard_version/main_gpt.ipynb#W0sZmlsZQ%3D%3D?line=18'>19</a>\u001b[0m     (\u001b[39m\"\u001b[39m\u001b[39mTeamA\u001b[39m\u001b[39m\"\u001b[39m, \u001b[39m\"\u001b[39m\u001b[39mTeamC\u001b[39m\u001b[39m\"\u001b[39m): \u001b[39m200\u001b[39m,\n\u001b[1;32m     <a href='vscode-notebook-cell:/Users/Henry/Desktop/github/personal_projects/NFL%20schedule/bard_version/main_gpt.ipynb#W0sZmlsZQ%3D%3D?line=19'>20</a>\u001b[0m     (\u001b[39m\"\u001b[39m\u001b[39mTeamA\u001b[39m\u001b[39m\"\u001b[39m, \u001b[39m\"\u001b[39m\u001b[39mTeamD\u001b[39m\u001b[39m\"\u001b[39m): \u001b[39m150\u001b[39m,\n\u001b[1;32m     <a href='vscode-notebook-cell:/Users/Henry/Desktop/github/personal_projects/NFL%20schedule/bard_version/main_gpt.ipynb#W0sZmlsZQ%3D%3D?line=20'>21</a>\u001b[0m     \u001b[39m# Add more travel distances...\u001b[39;00m\n\u001b[1;32m     <a href='vscode-notebook-cell:/Users/Henry/Desktop/github/personal_projects/NFL%20schedule/bard_version/main_gpt.ipynb#W0sZmlsZQ%3D%3D?line=21'>22</a>\u001b[0m }\n\u001b[1;32m     <a href='vscode-notebook-cell:/Users/Henry/Desktop/github/personal_projects/NFL%20schedule/bard_version/main_gpt.ipynb#W0sZmlsZQ%3D%3D?line=23'>24</a>\u001b[0m \u001b[39m# Objective function (simplified, based on travel distance)\u001b[39;00m\n\u001b[0;32m---> <a href='vscode-notebook-cell:/Users/Henry/Desktop/github/personal_projects/NFL%20schedule/bard_version/main_gpt.ipynb#W0sZmlsZQ%3D%3D?line=24'>25</a>\u001b[0m model\u001b[39m.\u001b[39msetObjective(gp\u001b[39m.\u001b[39mquicksum(game_slot[i, j, w] \u001b[39m*\u001b[39m travel_distance[i, j] \u001b[39mfor\u001b[39;00m i \u001b[39min\u001b[39;00m teams \u001b[39mfor\u001b[39;00m j \u001b[39min\u001b[39;00m teams \u001b[39mfor\u001b[39;00m w \u001b[39min\u001b[39;00m weeks \u001b[39mif\u001b[39;00m i \u001b[39m!=\u001b[39m j), gp\u001b[39m.\u001b[39mGRB\u001b[39m.\u001b[39mMINIMIZE)\n\u001b[1;32m     <a href='vscode-notebook-cell:/Users/Henry/Desktop/github/personal_projects/NFL%20schedule/bard_version/main_gpt.ipynb#W0sZmlsZQ%3D%3D?line=26'>27</a>\u001b[0m \u001b[39m# Constraints\u001b[39;00m\n\u001b[1;32m     <a href='vscode-notebook-cell:/Users/Henry/Desktop/github/personal_projects/NFL%20schedule/bard_version/main_gpt.ipynb#W0sZmlsZQ%3D%3D?line=27'>28</a>\u001b[0m \u001b[39m# Example: Each team should play exactly one game per week\u001b[39;00m\n\u001b[1;32m     <a href='vscode-notebook-cell:/Users/Henry/Desktop/github/personal_projects/NFL%20schedule/bard_version/main_gpt.ipynb#W0sZmlsZQ%3D%3D?line=28'>29</a>\u001b[0m \u001b[39mfor\u001b[39;00m w \u001b[39min\u001b[39;00m weeks:\n",
      "File \u001b[0;32msrc/gurobipy/gurobi.pxi:3706\u001b[0m, in \u001b[0;36mgurobipy.quicksum\u001b[0;34m()\u001b[0m\n",
      "\u001b[1;32m/Users/Henry/Desktop/github/personal_projects/NFL schedule/bard_version/main_gpt.ipynb Cell 1\u001b[0m line \u001b[0;36m2\n\u001b[1;32m     <a href='vscode-notebook-cell:/Users/Henry/Desktop/github/personal_projects/NFL%20schedule/bard_version/main_gpt.ipynb#W0sZmlsZQ%3D%3D?line=16'>17</a>\u001b[0m travel_distance \u001b[39m=\u001b[39m {\n\u001b[1;32m     <a href='vscode-notebook-cell:/Users/Henry/Desktop/github/personal_projects/NFL%20schedule/bard_version/main_gpt.ipynb#W0sZmlsZQ%3D%3D?line=17'>18</a>\u001b[0m     (\u001b[39m\"\u001b[39m\u001b[39mTeamA\u001b[39m\u001b[39m\"\u001b[39m, \u001b[39m\"\u001b[39m\u001b[39mTeamB\u001b[39m\u001b[39m\"\u001b[39m): \u001b[39m100\u001b[39m,\n\u001b[1;32m     <a href='vscode-notebook-cell:/Users/Henry/Desktop/github/personal_projects/NFL%20schedule/bard_version/main_gpt.ipynb#W0sZmlsZQ%3D%3D?line=18'>19</a>\u001b[0m     (\u001b[39m\"\u001b[39m\u001b[39mTeamA\u001b[39m\u001b[39m\"\u001b[39m, \u001b[39m\"\u001b[39m\u001b[39mTeamC\u001b[39m\u001b[39m\"\u001b[39m): \u001b[39m200\u001b[39m,\n\u001b[1;32m     <a href='vscode-notebook-cell:/Users/Henry/Desktop/github/personal_projects/NFL%20schedule/bard_version/main_gpt.ipynb#W0sZmlsZQ%3D%3D?line=19'>20</a>\u001b[0m     (\u001b[39m\"\u001b[39m\u001b[39mTeamA\u001b[39m\u001b[39m\"\u001b[39m, \u001b[39m\"\u001b[39m\u001b[39mTeamD\u001b[39m\u001b[39m\"\u001b[39m): \u001b[39m150\u001b[39m,\n\u001b[1;32m     <a href='vscode-notebook-cell:/Users/Henry/Desktop/github/personal_projects/NFL%20schedule/bard_version/main_gpt.ipynb#W0sZmlsZQ%3D%3D?line=20'>21</a>\u001b[0m     \u001b[39m# Add more travel distances...\u001b[39;00m\n\u001b[1;32m     <a href='vscode-notebook-cell:/Users/Henry/Desktop/github/personal_projects/NFL%20schedule/bard_version/main_gpt.ipynb#W0sZmlsZQ%3D%3D?line=21'>22</a>\u001b[0m }\n\u001b[1;32m     <a href='vscode-notebook-cell:/Users/Henry/Desktop/github/personal_projects/NFL%20schedule/bard_version/main_gpt.ipynb#W0sZmlsZQ%3D%3D?line=23'>24</a>\u001b[0m \u001b[39m# Objective function (simplified, based on travel distance)\u001b[39;00m\n\u001b[0;32m---> <a href='vscode-notebook-cell:/Users/Henry/Desktop/github/personal_projects/NFL%20schedule/bard_version/main_gpt.ipynb#W0sZmlsZQ%3D%3D?line=24'>25</a>\u001b[0m model\u001b[39m.\u001b[39msetObjective(gp\u001b[39m.\u001b[39mquicksum(game_slot[i, j, w] \u001b[39m*\u001b[39m travel_distance[i, j] \u001b[39mfor\u001b[39;00m i \u001b[39min\u001b[39;00m teams \u001b[39mfor\u001b[39;00m j \u001b[39min\u001b[39;00m teams \u001b[39mfor\u001b[39;00m w \u001b[39min\u001b[39;00m weeks \u001b[39mif\u001b[39;00m i \u001b[39m!=\u001b[39m j), gp\u001b[39m.\u001b[39mGRB\u001b[39m.\u001b[39mMINIMIZE)\n\u001b[1;32m     <a href='vscode-notebook-cell:/Users/Henry/Desktop/github/personal_projects/NFL%20schedule/bard_version/main_gpt.ipynb#W0sZmlsZQ%3D%3D?line=26'>27</a>\u001b[0m \u001b[39m# Constraints\u001b[39;00m\n\u001b[1;32m     <a href='vscode-notebook-cell:/Users/Henry/Desktop/github/personal_projects/NFL%20schedule/bard_version/main_gpt.ipynb#W0sZmlsZQ%3D%3D?line=27'>28</a>\u001b[0m \u001b[39m# Example: Each team should play exactly one game per week\u001b[39;00m\n\u001b[1;32m     <a href='vscode-notebook-cell:/Users/Henry/Desktop/github/personal_projects/NFL%20schedule/bard_version/main_gpt.ipynb#W0sZmlsZQ%3D%3D?line=28'>29</a>\u001b[0m \u001b[39mfor\u001b[39;00m w \u001b[39min\u001b[39;00m weeks:\n",
      "\u001b[0;31mKeyError\u001b[0m: ('TeamB', 'TeamA')"
     ]
    }
   ],
   "source": [
    "import gurobipy as gp\n",
    "\n",
    "# Create a Gurobi model\n",
    "model = gp.Model(\"NFL_Schedule_Optimization\")\n",
    "\n",
    "# Teams\n",
    "teams = [\"TeamA\", \"TeamB\", \"TeamC\", \"TeamD\"]\n",
    "\n",
    "# Weeks\n",
    "weeks = range(1, 5)\n",
    "\n",
    "# Binary decision variables\n",
    "game_slot = model.addVars(teams, teams, weeks, vtype=gp.GRB.BINARY, name=\"GameSlot\")\n",
    "\n",
    "# Define travel distances (simplified example)\n",
    "# Replace this with actual travel distance data\n",
    "travel_distance = {\n",
    "    (\"TeamA\", \"TeamB\"): 100,\n",
    "    (\"TeamA\", \"TeamC\"): 200,\n",
    "    (\"TeamA\", \"TeamD\"): 150,\n",
    "    # Add more travel distances...\n",
    "}\n",
    "\n",
    "# Objective function (simplified, based on travel distance)\n",
    "model.setObjective(gp.quicksum(game_slot[i, j, w] * travel_distance[i, j] for i in teams for j in teams for w in weeks if i != j), gp.GRB.MINIMIZE)\n",
    "\n",
    "# Constraints\n",
    "# Example: Each team should play exactly one game per week\n",
    "for w in weeks:\n",
    "    for team in teams:\n",
    "        model.addConstr(gp.quicksum(game_slot[team, opponent, w] for opponent in teams if opponent != team) == 1)\n",
    "\n",
    "# Optimize the model\n",
    "model.optimize()\n",
    "\n",
    "# Print the schedule\n",
    "for w in weeks:\n",
    "    print(f\"Week {w}:\")\n",
    "    for i in teams:\n",
    "        for j in teams:\n",
    "            if i != j and game_slot[i, j, w].x == 1:\n",
    "                print(f\"{i} vs {j}\")\n",
    "\n",
    "# Print the objective value (e.g., travel distance)\n",
    "print(\"Objective Value:\", model.objVal)\n"
   ]
  },
  {
   "cell_type": "code",
   "execution_count": null,
   "metadata": {},
   "outputs": [],
   "source": []
  }
 ],
 "metadata": {
  "kernelspec": {
   "display_name": "nfl_schedule",
   "language": "python",
   "name": "python3"
  },
  "language_info": {
   "codemirror_mode": {
    "name": "ipython",
    "version": 3
   },
   "file_extension": ".py",
   "mimetype": "text/x-python",
   "name": "python",
   "nbconvert_exporter": "python",
   "pygments_lexer": "ipython3",
   "version": "3.11.5"
  }
 },
 "nbformat": 4,
 "nbformat_minor": 2
}
