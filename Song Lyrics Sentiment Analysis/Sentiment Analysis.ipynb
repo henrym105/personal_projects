{
 "cells": [
  {
   "cell_type": "code",
   "execution_count": 5,
   "metadata": {},
   "outputs": [],
   "source": [
    "# !pip install spotipy\n",
    "# !pip install lyricsgenius \n",
    "\n",
    "import spotipy\n",
    "import lyricsgenius\n",
    "import os\n"
   ]
  },
  {
   "cell_type": "code",
   "execution_count": 11,
   "metadata": {},
   "outputs": [
    {
     "name": "stdout",
     "output_type": "stream",
     "text": [
      "None\n"
     ]
    }
   ],
   "source": [
    "# client secret: ocQV8lnkMDLUWFG4hgxvlxkT70e0Y1liOkFNQWK18TtxmxFUHZBKt2p4ovmnP33WtOt2H_0C47nAS8FYX5eFUg\n",
    "# Client ID: n0JLdnGgKJfyx0oHlGCW8pdMypyMz6658irSkndyAKj0YQEcyEwDajLA9tl3TLLb\n",
    "\n",
    "# Access_token = \"n0JLdnGgKJfyx0oHlGCW8pdMypyMz6658irSkndyAKj0YQEcyEwDajLA9tl3TLLb\"\n",
    "\n",
    "# Create a new object instance for the Genius API\n",
    "# genius = lyricsgenius.Genius('ACCESS_TOKEN')\n",
    "# \n",
    "\n",
    "\n",
    "# export GENIUS_CLIENT_ID=\"n0JLdnGgKJfyx0oHlGCW8pdMypyMz6658irSkndyAKj0YQEcyEwDajLA9tl3TLLb\"\n",
    "# export GENIUS_CLIENT_SECRET=\"ocQV8lnkMDLUWFG4hgxvlxkT70e0Y1liOkFNQWK18TtxmxFUHZBKt2p4ovmnP33WtOt2H_0C47nAS8FYX5eFUg\"\n",
    "# export SPOTIFY_CLIENT_ID=\"bb0bb2da8a644897ad31bb01b6219216\"\n",
    "# export SPOTIFY_CLIENT_SECRET=\"b5227148ebf34565bdfc0257f7ef70ab\"\n",
    "\n",
    "\n",
    "\n",
    "genius = os.environ.get('GENIUS_CLIENT_SECRET')\n",
    "print(genius)\n",
    "\n"
   ]
  },
  {
   "cell_type": "code",
   "execution_count": null,
   "metadata": {},
   "outputs": [],
   "source": []
  }
 ],
 "metadata": {
  "kernelspec": {
   "display_name": "Python 3.9.12 ('base')",
   "language": "python",
   "name": "python3"
  },
  "language_info": {
   "codemirror_mode": {
    "name": "ipython",
    "version": 3
   },
   "file_extension": ".py",
   "mimetype": "text/x-python",
   "name": "python",
   "nbconvert_exporter": "python",
   "pygments_lexer": "ipython3",
   "version": "3.9.12"
  },
  "orig_nbformat": 4,
  "vscode": {
   "interpreter": {
    "hash": "8841f7bafa9d104dbee62c6cf5f62fae5061e5f4a5ff02b7a6a5ce4bc4f60264"
   }
  }
 },
 "nbformat": 4,
 "nbformat_minor": 2
}
