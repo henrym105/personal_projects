{
 "cells": [
  {
   "cell_type": "code",
   "execution_count": 1,
   "metadata": {},
   "outputs": [
    {
     "name": "stdout",
     "output_type": "stream",
     "text": [
      "Requirement already satisfied: spotipy in /Users/Henry/opt/anaconda3/lib/python3.9/site-packages (2.22.1)\n",
      "Requirement already satisfied: requests>=2.25.0 in /Users/Henry/opt/anaconda3/lib/python3.9/site-packages (from spotipy) (2.27.1)\n",
      "Requirement already satisfied: redis>=3.5.3 in /Users/Henry/opt/anaconda3/lib/python3.9/site-packages (from spotipy) (4.5.1)\n",
      "Requirement already satisfied: six>=1.15.0 in /Users/Henry/opt/anaconda3/lib/python3.9/site-packages (from spotipy) (1.16.0)\n",
      "Requirement already satisfied: urllib3>=1.26.0 in /Users/Henry/opt/anaconda3/lib/python3.9/site-packages (from spotipy) (1.26.9)\n",
      "Requirement already satisfied: async-timeout>=4.0.2 in /Users/Henry/opt/anaconda3/lib/python3.9/site-packages (from redis>=3.5.3->spotipy) (4.0.2)\n",
      "Requirement already satisfied: charset-normalizer~=2.0.0 in /Users/Henry/opt/anaconda3/lib/python3.9/site-packages (from requests>=2.25.0->spotipy) (2.0.4)\n",
      "Requirement already satisfied: certifi>=2017.4.17 in /Users/Henry/opt/anaconda3/lib/python3.9/site-packages (from requests>=2.25.0->spotipy) (2021.10.8)\n",
      "Requirement already satisfied: idna<4,>=2.5 in /Users/Henry/opt/anaconda3/lib/python3.9/site-packages (from requests>=2.25.0->spotipy) (3.3)\n",
      "Requirement already satisfied: lyricsgenius in /Users/Henry/opt/anaconda3/lib/python3.9/site-packages (3.0.1)\n",
      "Requirement already satisfied: requests>=2.20.0 in /Users/Henry/opt/anaconda3/lib/python3.9/site-packages (from lyricsgenius) (2.27.1)\n",
      "Requirement already satisfied: beautifulsoup4>=4.6.0 in /Users/Henry/opt/anaconda3/lib/python3.9/site-packages (from lyricsgenius) (4.11.1)\n",
      "Requirement already satisfied: soupsieve>1.2 in /Users/Henry/opt/anaconda3/lib/python3.9/site-packages (from beautifulsoup4>=4.6.0->lyricsgenius) (2.3.1)\n",
      "Requirement already satisfied: certifi>=2017.4.17 in /Users/Henry/opt/anaconda3/lib/python3.9/site-packages (from requests>=2.20.0->lyricsgenius) (2021.10.8)\n",
      "Requirement already satisfied: idna<4,>=2.5 in /Users/Henry/opt/anaconda3/lib/python3.9/site-packages (from requests>=2.20.0->lyricsgenius) (3.3)\n",
      "Requirement already satisfied: charset-normalizer~=2.0.0 in /Users/Henry/opt/anaconda3/lib/python3.9/site-packages (from requests>=2.20.0->lyricsgenius) (2.0.4)\n",
      "Requirement already satisfied: urllib3<1.27,>=1.21.1 in /Users/Henry/opt/anaconda3/lib/python3.9/site-packages (from requests>=2.20.0->lyricsgenius) (1.26.9)\n"
     ]
    }
   ],
   "source": [
    "!pip install spotipy\n",
    "!pip install lyricsgenius "
   ]
  },
  {
   "cell_type": "code",
   "execution_count": 2,
   "metadata": {},
   "outputs": [],
   "source": [
    "import spotipy\n",
    "import lyricsgenius\n"
   ]
  },
  {
   "cell_type": "code",
   "execution_count": null,
   "metadata": {},
   "outputs": [],
   "source": []
  }
 ],
 "metadata": {
  "kernelspec": {
   "display_name": "Python 3.9.12 ('base')",
   "language": "python",
   "name": "python3"
  },
  "language_info": {
   "codemirror_mode": {
    "name": "ipython",
    "version": 3
   },
   "file_extension": ".py",
   "mimetype": "text/x-python",
   "name": "python",
   "nbconvert_exporter": "python",
   "pygments_lexer": "ipython3",
   "version": "3.9.12"
  },
  "orig_nbformat": 4,
  "vscode": {
   "interpreter": {
    "hash": "8841f7bafa9d104dbee62c6cf5f62fae5061e5f4a5ff02b7a6a5ce4bc4f60264"
   }
  }
 },
 "nbformat": 4,
 "nbformat_minor": 2
}
