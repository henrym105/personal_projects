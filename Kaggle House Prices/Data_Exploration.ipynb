{
 "cells": [
  {
   "cell_type": "code",
   "execution_count": null,
   "metadata": {},
   "outputs": [],
   "source": [
    "import pandas as pd\n",
    "import numpy as np\n",
    "import tensorflow as tf"
   ]
  },
  {
   "cell_type": "code",
   "execution_count": null,
   "metadata": {},
   "outputs": [],
   "source": [
    "train = pd.read_csv(\"train.csv\")\n",
    "test = pd.read_csv(\"test.csv\")"
   ]
  },
  {
   "cell_type": "code",
   "execution_count": null,
   "metadata": {},
   "outputs": [],
   "source": [
    "# Get Median neighborhood SalePrice rounded to $10,000\n",
    "med_price = train.groupby(\"Neighborhood\").agg(\"median\")[[\"SalePrice\"]].sort_values(by = \"SalePrice\")\n",
    "med_price['SalePrice4'] = round(df['SalePrice'], -4)   \n",
    "# print(med_price)\n",
    "\n",
    "\n",
    "# NOTE: Can also do it this way if wanted a Series object instead of a Dataframe:\n",
    "#       A series allows you to create a Lambda function\n",
    "med_price_series = train.groupby(\"Neighborhood\")[\"SalePrice\"].median() \n",
    "mean_price_series = train.groupby(\"Neighborhood\")[\"SalePrice\"].mean().round(0)\n",
    "print(mean_price_series)\n",
    "# print(med_price_series)"
   ]
  },
  {
   "cell_type": "code",
   "execution_count": null,
   "metadata": {},
   "outputs": [],
   "source": [
    "# Factor Creation: Mean and Median \n",
    "train['MedianHoodPrice'] = train['Neighborhood'].map(med_price_series)\n",
    "train['MeanHoodPrice'] = train['Neighborhood'].map(mean_price_series)\n",
    "\n",
    "# NOTE: can also do this with the .lambda function on the Neighborhood column of train:\n",
    "# train['MedianHoodPrice'] = train.apply(lambda x: med_price_series[x['Neighborhood']], axis = 1)\n",
    "# train['MeanHoodPrice'] = train.apply(lambda x: mean_price_series[x['Neighborhood']], axis = 1)\n",
    "\n",
    "train.head()"
   ]
  },
  {
   "cell_type": "code",
   "execution_count": null,
   "metadata": {},
   "outputs": [],
   "source": [
    "test['MedianHoodPrice'] = test['Neighborhood'].map(med_price_series)\n",
    "test['MeanHoodPrice'] = test['Neighborhood'].map(mean_price_series)\n",
    "test.head()"
   ]
  },
  {
   "cell_type": "code",
   "execution_count": null,
   "metadata": {},
   "outputs": [],
   "source": [
    "# visualizing something real quick, this isn't important\n",
    "train['Mean_Sale_Diff'] = train['SalePrice'] - train['MeanHoodPrice']\n",
    "# train.head()\n",
    "train[['Mean_Sale_Diff']].plot(kind = 'hist', figsize = (10,5), bins = 100)"
   ]
  },
  {
   "cell_type": "code",
   "execution_count": null,
   "metadata": {},
   "outputs": [],
   "source": [
    "# Exporting train and test data with new factors added\n",
    "train.to_csv('train_updated.csv', index = False)\n",
    "test.to_csv('test_updated.csv', index = False)"
   ]
  },
  {
   "cell_type": "code",
   "execution_count": null,
   "metadata": {},
   "outputs": [],
   "source": []
  }
 ],
 "metadata": {
  "kernelspec": {
   "display_name": "Python 3.9.12 ('base')",
   "language": "python",
   "name": "python3"
  },
  "language_info": {
   "codemirror_mode": {
    "name": "ipython",
    "version": 3
   },
   "file_extension": ".py",
   "mimetype": "text/x-python",
   "name": "python",
   "nbconvert_exporter": "python",
   "pygments_lexer": "ipython3",
   "version": "3.9.12"
  },
  "orig_nbformat": 4,
  "vscode": {
   "interpreter": {
    "hash": "8841f7bafa9d104dbee62c6cf5f62fae5061e5f4a5ff02b7a6a5ce4bc4f60264"
   }
  }
 },
 "nbformat": 4,
 "nbformat_minor": 2
}
