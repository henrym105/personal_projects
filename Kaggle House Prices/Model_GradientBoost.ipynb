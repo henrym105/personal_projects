{
 "cells": [
  {
   "cell_type": "code",
   "execution_count": 72,
   "metadata": {},
   "outputs": [],
   "source": [
    "import pandas as pd\n",
    "import numpy as np\n",
    "from sklearn.model_selection import train_test_split\n",
    "from sklearn.linear_model import LinearRegression\n",
    "from sklearn.metrics import mean_squared_error\n",
    "from sklearn.ensemble import GradientBoostingRegressor"
   ]
  },
  {
   "cell_type": "code",
   "execution_count": 73,
   "metadata": {},
   "outputs": [],
   "source": [
    "# Read the full train and test files\n",
    "train = pd.read_csv(\"train_updated.csv\")\n",
    "test = pd.read_csv(\"test_updated.csv\")\n",
    "# train.columns\n",
    "# test.columns"
   ]
  },
  {
   "cell_type": "code",
   "execution_count": 74,
   "metadata": {},
   "outputs": [
    {
     "name": "stdout",
     "output_type": "stream",
     "text": [
      "(1460,)\n"
     ]
    }
   ],
   "source": [
    "# Split Y variable 'SalePrice' away from rest of data\n",
    "X_train = train[['LotArea', 'YearBuilt', '1stFlrSF', '2ndFlrSF', 'MedianHoodPrice']]\n",
    "y_train = np.array(train['SalePrice']).flatten()\n",
    "print(y_train.shape)\n",
    "\n",
    "X_test = test[['LotArea', 'YearBuilt', '1stFlrSF', '2ndFlrSF',  'MedianHoodPrice']]\n",
    "# print(X_train.columns)\n",
    "# print(y_train.columns)\n"
   ]
  },
  {
   "cell_type": "code",
   "execution_count": 75,
   "metadata": {},
   "outputs": [
    {
     "name": "stdout",
     "output_type": "stream",
     "text": [
      "test r2: 0.944\n"
     ]
    }
   ],
   "source": [
    "# Initiate and Fit the Linear regression model\n",
    "model = GradientBoostingRegressor(n_estimators=200)\n",
    "model.fit(X_train, y_train)\n",
    "\n",
    "y_pred = model.predict(X_test)\n",
    "y_pred = np.array(y_pred)\n",
    "\n",
    "# Get model's r^2 score based on the training set\n",
    "r2 = model.score(X_train, y_train).round(3)\n",
    "print(f'test r2: {r2}')\n",
    "\n",
    "# NOTE: could use this to calculate MSE & RMSE  if I had the sale price for the test data too.\n",
    "# mse = mean_squared_error(y_test, y_pred)\n",
    "# rmse = sqrt(mse)\n",
    "# print(rmse)"
   ]
  },
  {
   "cell_type": "code",
   "execution_count": 76,
   "metadata": {},
   "outputs": [
    {
     "name": "stdout",
     "output_type": "stream",
     "text": [
      "     Id      SalePrice\n",
      "0  1461  125849.980751\n",
      "1  1462  156960.390940\n",
      "2  1463  194426.599767\n",
      "3  1464  182895.835914\n",
      "4  1465  196236.816218\n"
     ]
    }
   ],
   "source": [
    "submission = pd.DataFrame({\"Id\" : test['Id'], \"SalePrice\" : y_pred.flatten()})\n",
    "print(submission.head())\n",
    "\n",
    "submission.to_csv(\"submission_GBR.csv\", index=False)"
   ]
  },
  {
   "cell_type": "code",
   "execution_count": null,
   "metadata": {},
   "outputs": [],
   "source": [
    "\n",
    "\n"
   ]
  },
  {
   "cell_type": "code",
   "execution_count": null,
   "metadata": {},
   "outputs": [],
   "source": []
  }
 ],
 "metadata": {
  "kernelspec": {
   "display_name": "Python 3.9.12 ('base')",
   "language": "python",
   "name": "python3"
  },
  "language_info": {
   "codemirror_mode": {
    "name": "ipython",
    "version": 3
   },
   "file_extension": ".py",
   "mimetype": "text/x-python",
   "name": "python",
   "nbconvert_exporter": "python",
   "pygments_lexer": "ipython3",
   "version": "3.9.12"
  },
  "orig_nbformat": 4,
  "vscode": {
   "interpreter": {
    "hash": "8841f7bafa9d104dbee62c6cf5f62fae5061e5f4a5ff02b7a6a5ce4bc4f60264"
   }
  }
 },
 "nbformat": 4,
 "nbformat_minor": 2
}
